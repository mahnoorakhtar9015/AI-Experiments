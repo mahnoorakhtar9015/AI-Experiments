{
 "cells": [
  {
   "cell_type": "markdown",
   "id": "d32b86cf",
   "metadata": {},
   "source": [
    "This notebook demonstrates the use of **K-Prototypes** clustering to segment mall customers based on both **numerical** and **categorical** features.\n",
    "\n",
    "- Traditional algorithms like KMeans only work with numeric data\n",
    "- K-Prototypes is designed to handle **mixed-type data** (e.g., age + gender)\n"
   ]
  },
  {
   "cell_type": "markdown",
   "id": "38c603af",
   "metadata": {},
   "source": [
    "**What is K-Prototypes?**\n",
    "\n",
    "K-Prototypes combines:\n",
    "- **KMeans** : for numerical features (e.g., income, age)\n",
    "- **KModes** : for categorical features (e.g., gender)\n",
    "\n",
    "It uses:\n",
    "- **Euclidean distance** for numeric data\n",
    "- **Categorical dissimilarity** (0 for match, 1 for mismatch)\n",
    "- A **weight factor (`gamma`)** to balance both parts\n"
   ]
  },
  {
   "cell_type": "code",
   "execution_count": 2,
   "id": "2a759826",
   "metadata": {},
   "outputs": [],
   "source": [
    "import pandas as pd\n",
    "from kmodes.kprototypes import KPrototypes\n"
   ]
  },
  {
   "cell_type": "markdown",
   "id": "54ba71bf",
   "metadata": {},
   "source": [
    "**Dataset**\n",
    "\n",
    "- Source: `Mall_Customers.csv`\n",
    "- Features used:\n",
    "  - `Gender` (categorical)\n",
    "  - `Age` (numeric)\n",
    "  - `Annual Income (k$)` (numeric)\n",
    "  - `Spending Score (1-100)` (numeric)"
   ]
  },
  {
   "cell_type": "code",
   "execution_count": 4,
   "id": "3d2839ab",
   "metadata": {},
   "outputs": [
    {
     "data": {
      "text/html": [
       "<div>\n",
       "<style scoped>\n",
       "    .dataframe tbody tr th:only-of-type {\n",
       "        vertical-align: middle;\n",
       "    }\n",
       "\n",
       "    .dataframe tbody tr th {\n",
       "        vertical-align: top;\n",
       "    }\n",
       "\n",
       "    .dataframe thead th {\n",
       "        text-align: right;\n",
       "    }\n",
       "</style>\n",
       "<table border=\"1\" class=\"dataframe\">\n",
       "  <thead>\n",
       "    <tr style=\"text-align: right;\">\n",
       "      <th></th>\n",
       "      <th>CustomerID</th>\n",
       "      <th>Gender</th>\n",
       "      <th>Age</th>\n",
       "      <th>Annual Income (k$)</th>\n",
       "      <th>Spending Score (1-100)</th>\n",
       "    </tr>\n",
       "  </thead>\n",
       "  <tbody>\n",
       "    <tr>\n",
       "      <th>0</th>\n",
       "      <td>1</td>\n",
       "      <td>Male</td>\n",
       "      <td>19</td>\n",
       "      <td>15</td>\n",
       "      <td>39</td>\n",
       "    </tr>\n",
       "    <tr>\n",
       "      <th>1</th>\n",
       "      <td>2</td>\n",
       "      <td>Male</td>\n",
       "      <td>21</td>\n",
       "      <td>15</td>\n",
       "      <td>81</td>\n",
       "    </tr>\n",
       "    <tr>\n",
       "      <th>2</th>\n",
       "      <td>3</td>\n",
       "      <td>Female</td>\n",
       "      <td>20</td>\n",
       "      <td>16</td>\n",
       "      <td>6</td>\n",
       "    </tr>\n",
       "    <tr>\n",
       "      <th>3</th>\n",
       "      <td>4</td>\n",
       "      <td>Female</td>\n",
       "      <td>23</td>\n",
       "      <td>16</td>\n",
       "      <td>77</td>\n",
       "    </tr>\n",
       "    <tr>\n",
       "      <th>4</th>\n",
       "      <td>5</td>\n",
       "      <td>Female</td>\n",
       "      <td>31</td>\n",
       "      <td>17</td>\n",
       "      <td>40</td>\n",
       "    </tr>\n",
       "  </tbody>\n",
       "</table>\n",
       "</div>"
      ],
      "text/plain": [
       "   CustomerID  Gender  Age  Annual Income (k$)  Spending Score (1-100)\n",
       "0           1    Male   19                  15                      39\n",
       "1           2    Male   21                  15                      81\n",
       "2           3  Female   20                  16                       6\n",
       "3           4  Female   23                  16                      77\n",
       "4           5  Female   31                  17                      40"
      ]
     },
     "execution_count": 4,
     "metadata": {},
     "output_type": "execute_result"
    }
   ],
   "source": [
    "df = pd.read_csv('Mall_Customers.csv')\n",
    "df.head()"
   ]
  },
  {
   "cell_type": "code",
   "execution_count": 5,
   "id": "e2b8bf71",
   "metadata": {},
   "outputs": [],
   "source": [
    "df_selected = df[['Gender', 'Age', 'Annual Income (k$)', 'Spending Score (1-100)']]"
   ]
  },
  {
   "cell_type": "markdown",
   "id": "55f133f0",
   "metadata": {},
   "source": [
    "**Preprocessing**\n",
    "\n",
    "1. Loaded selected features\n",
    "2. Ensured `Gender` is string format\n",
    "3. Converted DataFrame to NumPy array (required by `kmodes` library)"
   ]
  },
  {
   "cell_type": "code",
   "execution_count": null,
   "id": "dd3c28c4",
   "metadata": {},
   "outputs": [],
   "source": [
    "data_matrix = df_selected.copy()\n",
    "data_matrix['Gender'] = data_matrix['Gender'].astype(str)\n",
    "data_matrix_np = data_matrix.to_numpy()"
   ]
  },
  {
   "cell_type": "markdown",
   "id": "dd90922a",
   "metadata": {},
   "source": [
    "**K-Prototypes Clustering**\n",
    "\n",
    "- Library: `kmodes.kprototypes`\n",
    "- Clustering performed using:\n",
    "  ```pyhton\n",
    "  kproto = KPrototypes(n_clusters=4, init='Cao', random_state=42)\n",
    "  clusters = kproto.fit_predict(data_matrix_np, categorical=[0])"
   ]
  },
  {
   "cell_type": "code",
   "execution_count": 11,
   "id": "1a70a464",
   "metadata": {},
   "outputs": [
    {
     "name": "stdout",
     "output_type": "stream",
     "text": [
      "Initialization method and algorithm are deterministic. Setting n_init to 1.\n",
      "Init: initializing centroids\n",
      "Init: initializing clusters\n",
      "Starting iterations...\n",
      "Run: 1, iteration: 1/100, moves: 48, ncost: 142098.9399189604\n",
      "Run: 1, iteration: 2/100, moves: 59, ncost: 110815.90237935839\n",
      "Run: 1, iteration: 3/100, moves: 20, ncost: 106679.74436780927\n",
      "Run: 1, iteration: 4/100, moves: 2, ncost: 106522.0234403432\n",
      "Run: 1, iteration: 5/100, moves: 3, ncost: 106342.18892832621\n",
      "Run: 1, iteration: 6/100, moves: 0, ncost: 106342.18892832621\n",
      "Init: initializing centroids\n",
      "Init: initializing clusters\n",
      "Starting iterations...\n",
      "Run: 2, iteration: 1/100, moves: 42, ncost: 149367.21827789585\n",
      "Run: 2, iteration: 2/100, moves: 19, ncost: 138236.20627057538\n",
      "Run: 2, iteration: 3/100, moves: 16, ncost: 126583.41283961161\n",
      "Run: 2, iteration: 4/100, moves: 13, ncost: 113847.81369042202\n",
      "Run: 2, iteration: 5/100, moves: 17, ncost: 106948.95968239669\n",
      "Run: 2, iteration: 6/100, moves: 9, ncost: 106360.91226165951\n",
      "Run: 2, iteration: 7/100, moves: 2, ncost: 106342.18892832621\n",
      "Run: 2, iteration: 8/100, moves: 0, ncost: 106342.18892832621\n",
      "Init: initializing centroids\n",
      "Init: initializing clusters\n",
      "Starting iterations...\n",
      "Run: 3, iteration: 1/100, moves: 41, ncost: 125045.27682429425\n",
      "Run: 3, iteration: 2/100, moves: 26, ncost: 117549.75905020216\n",
      "Run: 3, iteration: 3/100, moves: 10, ncost: 115225.18486804547\n",
      "Run: 3, iteration: 4/100, moves: 13, ncost: 108067.55339899017\n",
      "Run: 3, iteration: 5/100, moves: 9, ncost: 105387.45467582443\n",
      "Run: 3, iteration: 6/100, moves: 1, ncost: 105329.59240247977\n",
      "Run: 3, iteration: 7/100, moves: 0, ncost: 105329.59240247977\n",
      "Init: initializing centroids\n",
      "Init: initializing clusters\n",
      "Starting iterations...\n",
      "Run: 4, iteration: 1/100, moves: 57, ncost: 140790.94623696132\n",
      "Run: 4, iteration: 2/100, moves: 42, ncost: 112729.06966289406\n",
      "Run: 4, iteration: 3/100, moves: 13, ncost: 107111.66808116151\n",
      "Run: 4, iteration: 4/100, moves: 5, ncost: 106195.5587002074\n",
      "Run: 4, iteration: 5/100, moves: 0, ncost: 106195.5587002074\n",
      "Init: initializing centroids\n",
      "Init: initializing clusters\n",
      "Starting iterations...\n",
      "Run: 5, iteration: 1/100, moves: 17, ncost: 118777.91692690611\n",
      "Run: 5, iteration: 2/100, moves: 9, ncost: 117431.5909297085\n",
      "Run: 5, iteration: 3/100, moves: 6, ncost: 116939.299746632\n",
      "Run: 5, iteration: 4/100, moves: 7, ncost: 114337.51870974476\n",
      "Run: 5, iteration: 5/100, moves: 12, ncost: 107955.59851127984\n",
      "Run: 5, iteration: 6/100, moves: 8, ncost: 105387.45467582443\n",
      "Run: 5, iteration: 7/100, moves: 1, ncost: 105329.59240247977\n",
      "Run: 5, iteration: 8/100, moves: 0, ncost: 105329.59240247977\n",
      "Init: initializing centroids\n",
      "Init: initializing clusters\n",
      "Starting iterations...\n",
      "Run: 6, iteration: 1/100, moves: 42, ncost: 105385.4108548607\n",
      "Run: 6, iteration: 2/100, moves: 2, ncost: 105329.59240247977\n",
      "Run: 6, iteration: 3/100, moves: 0, ncost: 105329.59240247977\n",
      "Init: initializing centroids\n",
      "Init: initializing clusters\n",
      "Starting iterations...\n",
      "Run: 7, iteration: 1/100, moves: 46, ncost: 126643.78068501173\n",
      "Run: 7, iteration: 2/100, moves: 21, ncost: 123657.29994453402\n",
      "Run: 7, iteration: 3/100, moves: 7, ncost: 123145.28206330813\n",
      "Run: 7, iteration: 4/100, moves: 2, ncost: 123027.89231525296\n",
      "Run: 7, iteration: 5/100, moves: 3, ncost: 122797.86754363417\n",
      "Run: 7, iteration: 6/100, moves: 15, ncost: 118766.96410979713\n",
      "Run: 7, iteration: 7/100, moves: 23, ncost: 111413.36798541689\n",
      "Run: 7, iteration: 8/100, moves: 4, ncost: 110941.53929064501\n",
      "Run: 7, iteration: 9/100, moves: 0, ncost: 110941.53929064501\n",
      "Init: initializing centroids\n",
      "Init: initializing clusters\n",
      "Starting iterations...\n",
      "Run: 8, iteration: 1/100, moves: 57, ncost: 113295.33382238947\n",
      "Run: 8, iteration: 2/100, moves: 29, ncost: 106718.7902702222\n",
      "Run: 8, iteration: 3/100, moves: 10, ncost: 105509.03574078894\n",
      "Run: 8, iteration: 4/100, moves: 2, ncost: 105387.45467582443\n",
      "Run: 8, iteration: 5/100, moves: 1, ncost: 105329.59240247977\n",
      "Run: 8, iteration: 6/100, moves: 0, ncost: 105329.59240247977\n",
      "Init: initializing centroids\n",
      "Init: initializing clusters\n",
      "Starting iterations...\n",
      "Run: 9, iteration: 1/100, moves: 27, ncost: 135178.6169071221\n",
      "Run: 9, iteration: 2/100, moves: 3, ncost: 135082.18177914797\n",
      "Run: 9, iteration: 3/100, moves: 6, ncost: 133009.9121105562\n",
      "Run: 9, iteration: 4/100, moves: 23, ncost: 117798.085946414\n",
      "Run: 9, iteration: 5/100, moves: 25, ncost: 106797.13665937698\n",
      "Run: 9, iteration: 6/100, moves: 6, ncost: 106905.21919087709\n",
      "Init: initializing centroids\n",
      "Init: initializing clusters\n",
      "Starting iterations...\n",
      "Run: 10, iteration: 1/100, moves: 82, ncost: 125737.28927274515\n",
      "Run: 10, iteration: 2/100, moves: 31, ncost: 112680.61951586856\n",
      "Run: 10, iteration: 3/100, moves: 22, ncost: 106950.20411664761\n",
      "Run: 10, iteration: 4/100, moves: 7, ncost: 106342.18892832621\n",
      "Run: 10, iteration: 5/100, moves: 0, ncost: 106342.18892832621\n",
      "Best run was number 3\n"
     ]
    }
   ],
   "source": [
    "kproto = KPrototypes(n_clusters=4, init='Cao', verbose=1, random_state=42)\n",
    "\n",
    "# Categorical column index → 0 ('Gender')\n",
    "clusters = kproto.fit_predict(data_matrix_np, categorical=[0])\n",
    "\n",
    "# Assign cluster labels to original DataFrame\n",
    "df['KPrototypes_Cluster'] = clusters"
   ]
  },
  {
   "cell_type": "markdown",
   "id": "66e4d470",
   "metadata": {},
   "source": [
    "Cluster labels were added to the original DataFrame as KPrototypes_Cluster"
   ]
  },
  {
   "cell_type": "code",
   "execution_count": 12,
   "id": "1bc8cd00",
   "metadata": {},
   "outputs": [
    {
     "data": {
      "text/html": [
       "<div>\n",
       "<style scoped>\n",
       "    .dataframe tbody tr th:only-of-type {\n",
       "        vertical-align: middle;\n",
       "    }\n",
       "\n",
       "    .dataframe tbody tr th {\n",
       "        vertical-align: top;\n",
       "    }\n",
       "\n",
       "    .dataframe thead th {\n",
       "        text-align: right;\n",
       "    }\n",
       "</style>\n",
       "<table border=\"1\" class=\"dataframe\">\n",
       "  <thead>\n",
       "    <tr style=\"text-align: right;\">\n",
       "      <th></th>\n",
       "      <th>CustomerID</th>\n",
       "      <th>Gender</th>\n",
       "      <th>Age</th>\n",
       "      <th>Annual Income (k$)</th>\n",
       "      <th>Spending Score (1-100)</th>\n",
       "      <th>KPrototypes_Cluster</th>\n",
       "    </tr>\n",
       "  </thead>\n",
       "  <tbody>\n",
       "    <tr>\n",
       "      <th>0</th>\n",
       "      <td>1</td>\n",
       "      <td>Male</td>\n",
       "      <td>19</td>\n",
       "      <td>15</td>\n",
       "      <td>39</td>\n",
       "      <td>0</td>\n",
       "    </tr>\n",
       "    <tr>\n",
       "      <th>1</th>\n",
       "      <td>2</td>\n",
       "      <td>Male</td>\n",
       "      <td>21</td>\n",
       "      <td>15</td>\n",
       "      <td>81</td>\n",
       "      <td>0</td>\n",
       "    </tr>\n",
       "    <tr>\n",
       "      <th>2</th>\n",
       "      <td>3</td>\n",
       "      <td>Female</td>\n",
       "      <td>20</td>\n",
       "      <td>16</td>\n",
       "      <td>6</td>\n",
       "      <td>3</td>\n",
       "    </tr>\n",
       "    <tr>\n",
       "      <th>3</th>\n",
       "      <td>4</td>\n",
       "      <td>Female</td>\n",
       "      <td>23</td>\n",
       "      <td>16</td>\n",
       "      <td>77</td>\n",
       "      <td>0</td>\n",
       "    </tr>\n",
       "    <tr>\n",
       "      <th>4</th>\n",
       "      <td>5</td>\n",
       "      <td>Female</td>\n",
       "      <td>31</td>\n",
       "      <td>17</td>\n",
       "      <td>40</td>\n",
       "      <td>3</td>\n",
       "    </tr>\n",
       "  </tbody>\n",
       "</table>\n",
       "</div>"
      ],
      "text/plain": [
       "   CustomerID  Gender  Age  Annual Income (k$)  Spending Score (1-100)  \\\n",
       "0           1    Male   19                  15                      39   \n",
       "1           2    Male   21                  15                      81   \n",
       "2           3  Female   20                  16                       6   \n",
       "3           4  Female   23                  16                      77   \n",
       "4           5  Female   31                  17                      40   \n",
       "\n",
       "   KPrototypes_Cluster  \n",
       "0                    0  \n",
       "1                    0  \n",
       "2                    3  \n",
       "3                    0  \n",
       "4                    3  "
      ]
     },
     "execution_count": 12,
     "metadata": {},
     "output_type": "execute_result"
    }
   ],
   "source": [
    "df[['CustomerID', 'Gender', 'Age', 'Annual Income (k$)', 'Spending Score (1-100)', 'KPrototypes_Cluster']].head()"
   ]
  },
  {
   "cell_type": "markdown",
   "id": "b2f98b87",
   "metadata": {},
   "source": [
    "**Visualization**\n",
    "A 2D scatter plot was used:\n",
    "\n",
    "X-axis: Annual Income\n",
    "\n",
    "Y-axis: Spending Score\n",
    "\n",
    "Color: Cluster label"
   ]
  },
  {
   "cell_type": "code",
   "execution_count": 13,
   "id": "efd0ca18",
   "metadata": {},
   "outputs": [
    {
     "data": {
      "image/png": "[encoded data removed]",
      "text/plain": [
       "<Figure size 800x600 with 1 Axes>"
      ]
     },
     "metadata": {},
     "output_type": "display_data"
    }
   ],
   "source": [
    "import matplotlib.pyplot as plt\n",
    "\n",
    "plt.figure(figsize=(8, 6))\n",
    "plt.scatter(df['Annual Income (k$)'], df['Spending Score (1-100)'],\n",
    "            c=df['KPrototypes_Cluster'], cmap='Set2', s=60)\n",
    "plt.xlabel(\"Annual Income (k$)\")\n",
    "plt.ylabel(\"Spending Score (1-100)\")\n",
    "plt.title(\"K-Prototypes Clustering\")\n",
    "plt.grid(True)\n",
    "plt.show()"
   ]
  },
  {
   "cell_type": "markdown",
   "id": "df5461c1",
   "metadata": {},
   "source": [
    "### K-Prototypes is ideal for real-world datasets with both numeric and categorical columns, such as customer demographics and behavior."
   ]
  },
  {
   "cell_type": "markdown",
   "id": "cfd388bf",
   "metadata": {},
   "source": []
  }
 ],
 "metadata": {
  "kernelspec": {
   "display_name": "venv (3.13.3)",
   "language": "python",
   "name": "python3"
  },
  "language_info": {
   "codemirror_mode": {
    "name": "ipython",
    "version": 3
   },
   "file_extension": ".py",
   "mimetype": "text/x-python",
   "name": "python",
   "nbconvert_exporter": "python",
   "pygments_lexer": "ipython3",
   "version": "3.13.3"
  }
 },
 "nbformat": 4,
 "nbformat_minor": 5
}
